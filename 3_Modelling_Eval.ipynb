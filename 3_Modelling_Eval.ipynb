{
 "cells": [
  {
   "cell_type": "code",
   "execution_count": 43,
   "id": "ef5f7ea4",
   "metadata": {},
   "outputs": [],
   "source": [
    "from sklearn.datasets import  fetch_california_housing\n",
    "import pandas as pd\n",
    "import numpy as np\n",
    "\n",
    "import matplotlib.pyplot as plt\n",
    "import seaborn as sns\n",
    "\n",
    "from sklearn.model_selection import train_test_split\n",
    "from sklearn.neighbors import KNeighborsRegressor\n",
    "from sklearn.linear_model import LinearRegression\n",
    "from sklearn.ensemble import RandomForestRegressor\n",
    "from sklearn.metrics import r2_score, mean_absolute_error, mean_squared_error\n",
    "\n",
    "from sklearn.preprocessing import MinMaxScaler, StandardScaler"
   ]
  },
  {
   "cell_type": "markdown",
   "id": "f65be0d4",
   "metadata": {},
   "source": [
    "## Load Datasets"
   ]
  },
  {
   "cell_type": "code",
   "execution_count": 44,
   "id": "f3ba08ff",
   "metadata": {},
   "outputs": [],
   "source": [
    "# Import clean dataset versions\n",
    "df_v1 = pd.read_csv(\"data/processed/california_housing_processed_v1.csv\")\n",
    "df_v2 = pd.read_csv(\"data/processed/california_housing_processed_v2.csv\")\n",
    "\n",
    "# Split data into features and target\n",
    "X_v1 = df_v1.drop(columns=[\"median_house_value\"])\n",
    "y_v1 = df_v1[\"median_house_value\"]\n",
    "\n",
    "X_v2 = df_v2.drop(columns=[\"median_house_value\"])\n",
    "y_v2 = df_v2[\"median_house_value\"]\n"
   ]
  },
  {
   "cell_type": "code",
   "execution_count": 45,
   "id": "84249147",
   "metadata": {},
   "outputs": [],
   "source": [
    "datasets = [\n",
    "    {\n",
    "        \"name\": \"v1\",\n",
    "        \"X\": X_v1,\n",
    "        \"y\": y_v1\n",
    "    },\n",
    "    {\n",
    "        \"name\": \"v2\",\n",
    "        \"X\": X_v2,\n",
    "        \"y\": y_v2\n",
    "    }\n",
    "]"
   ]
  },
  {
   "cell_type": "markdown",
   "id": "1e582a57",
   "metadata": {},
   "source": [
    "## Train-Test Split"
   ]
  },
  {
   "cell_type": "code",
   "execution_count": 46,
   "id": "04d96985",
   "metadata": {},
   "outputs": [],
   "source": [
    "# Perform train-test split\n",
    "\n",
    "for dataset in datasets:\n",
    "    X = dataset[\"X\"]\n",
    "    y = dataset[\"y\"]\n",
    "\n",
    "    # Train-test split\n",
    "    X_train, X_test, y_train, y_test = train_test_split(X, y, test_size=0.2, random_state=42)\n",
    "\n",
    "    dataset[\"X_train\"] = X_train\n",
    "    dataset[\"X_test\"] = X_test\n",
    "    dataset[\"y_train\"] = y_train\n",
    "    dataset[\"y_test\"] = y_test"
   ]
  },
  {
   "cell_type": "markdown",
   "id": "a07823e9",
   "metadata": {},
   "source": [
    "## Scaling"
   ]
  },
  {
   "cell_type": "code",
   "execution_count": 47,
   "id": "191b84de",
   "metadata": {},
   "outputs": [],
   "source": [
    "# Apply MinMax and Standard Scaler to all dataset versions\n",
    "\n",
    "# Create a list to store new scaled datasets\n",
    "scaled_datasets = []\n",
    "\n",
    "for dataset in datasets:\n",
    "    # Get train and test datasets\n",
    "    X_train = dataset[\"X_train\"]\n",
    "    X_test = dataset[\"X_test\"]\n",
    "    y_train = dataset[\"y_train\"]\n",
    "    y_test = dataset[\"y_test\"]\n",
    "\n",
    "    # Fit MinMax Scaler\n",
    "    minmax_scaler = MinMaxScaler()\n",
    "    minmax_scaler.fit(X_train)\n",
    "\n",
    "    # Transform datasets\n",
    "    X_train_minmax = minmax_scaler.transform(X_train)\n",
    "    X_test_minmax = minmax_scaler.transform(X_test)\n",
    "\n",
    "    # Convert to DataFrame\n",
    "    X_train_minmax = pd.DataFrame(X_train_minmax, columns = X_train.columns)\n",
    "    X_test_minmax = pd.DataFrame(X_test_minmax, columns = X_test.columns)\n",
    "\n",
    "    # Standard Scaler\n",
    "    standard_scaler = StandardScaler()\n",
    "    standard_scaler.fit(X_train)\n",
    "\n",
    "    # Transform datasets\n",
    "    X_train_standard = standard_scaler.transform(X_train)\n",
    "    X_test_standard = standard_scaler.transform(X_test)\n",
    "\n",
    "    # Convert to DataFrame\n",
    "    X_train_standard = pd.DataFrame(X_train_standard, columns = X_train.columns)\n",
    "    X_test_standard = pd.DataFrame(X_test_standard, columns = X_test.columns)\n",
    "\n",
    "    # Save scaled datasets\n",
    "    dataset[\"X_train_minmax\"] = X_train_minmax\n",
    "    dataset[\"X_test_minmax\"] = X_test_minmax\n",
    "    dataset[\"X_train_standard\"] = X_train_standard\n",
    "    dataset[\"X_test_standard\"] = X_test_standard\n",
    "\n",
    "    # Add new datasets to the scaled_datasets list\n",
    "    scaled_datasets.append({\n",
    "        \"name\": f\"{dataset['name']}_minmax\",\n",
    "        \"X_train\": X_train_minmax,\n",
    "        \"X_test\": X_test_minmax,\n",
    "        \"y_train\": y_train,\n",
    "        \"y_test\": y_test\n",
    "    })\n",
    "    \n",
    "    scaled_datasets.append({\n",
    "        \"name\": f\"{dataset['name']}_standard\",\n",
    "        \"X_train\": X_train_standard,\n",
    "        \"X_test\": X_test_standard,\n",
    "        \"y_train\": y_train,\n",
    "        \"y_test\": y_test\n",
    "    })\n",
    "\n",
    "# Now add all scaled datasets to the original list\n",
    "datasets.extend(scaled_datasets)"
   ]
  },
  {
   "cell_type": "markdown",
   "id": "58f07313",
   "metadata": {},
   "source": [
    "## Train KNN Model"
   ]
  },
  {
   "cell_type": "code",
   "execution_count": 48,
   "id": "7dae2176",
   "metadata": {},
   "outputs": [
    {
     "ename": "TypeError",
     "evalue": "'float' object is not callable",
     "output_type": "error",
     "traceback": [
      "\u001b[0;31m---------------------------------------------------------------------------\u001b[0m",
      "\u001b[0;31mTypeError\u001b[0m                                 Traceback (most recent call last)",
      "Cell \u001b[0;32mIn[48], line 30\u001b[0m\n\u001b[1;32m     28\u001b[0m model_instance\u001b[38;5;241m.\u001b[39mfit(X_train, y_train)\n\u001b[1;32m     29\u001b[0m y_pred \u001b[38;5;241m=\u001b[39m model_instance\u001b[38;5;241m.\u001b[39mpredict(X_test)\n\u001b[0;32m---> 30\u001b[0m r2_score \u001b[38;5;241m=\u001b[39m r2_score(y_test, y_pred)\n\u001b[1;32m     31\u001b[0m mae \u001b[38;5;241m=\u001b[39m mean_absolute_error(y_test, y_pred)\n\u001b[1;32m     32\u001b[0m mse \u001b[38;5;241m=\u001b[39m mean_squared_error(y_test, y_pred)\n",
      "\u001b[0;31mTypeError\u001b[0m: 'float' object is not callable"
     ]
    }
   ],
   "source": [
    "# List of models to evaluate\n",
    "models = [\n",
    "    {\n",
    "        \"name\": \"KNN\",\n",
    "        \"model\": KNeighborsRegressor(n_neighbors=10)\n",
    "    },\n",
    "    {\n",
    "        \"name\": \"Linear Regression\",\n",
    "        \"model\": LinearRegression()\n",
    "    },\n",
    "    {\n",
    "        \"name\": \"Random Forest\",\n",
    "        \"model\": RandomForestRegressor(n_estimators=100)\n",
    "    }\n",
    "]\n",
    "\n",
    "results = []\n",
    "\n",
    "for dataset in datasets:\n",
    "    X_train = dataset[\"X_train\"]\n",
    "    X_test = dataset[\"X_test\"]\n",
    "    y_train = dataset[\"y_train\"]\n",
    "    y_test = dataset[\"y_test\"]\n",
    "\n",
    "    for model in models:\n",
    "        model_name = model[\"name\"]\n",
    "        model_instance = model[\"model\"]\n",
    "        model_instance.fit(X_train, y_train)\n",
    "        y_pred = model_instance.predict(X_test)\n",
    "        r2_score = r2_score(y_test, y_pred)\n",
    "        mae = mean_absolute_error(y_test, y_pred)\n",
    "        mse = mean_squared_error(y_test, y_pred)\n",
    "        rmse = np.sqrt(mse)\n",
    "        results.append({\n",
    "            \"model\": model_name,\n",
    "            \"dataset\": dataset[\"name\"],\n",
    "            \"R2 score\": r2_score,\n",
    "            \"MAE\": mae,\n",
    "            \"MSE\": mse,\n",
    "            \"RMSE\": rmse\n",
    "        })\n",
    "\n",
    "# Convert results to DataFrame\n",
    "results_df = pd.DataFrame(results)\n",
    "results_df"
   ]
  }
 ],
 "metadata": {
  "kernelspec": {
   "display_name": "Python 3",
   "language": "python",
   "name": "python3"
  },
  "language_info": {
   "codemirror_mode": {
    "name": "ipython",
    "version": 3
   },
   "file_extension": ".py",
   "mimetype": "text/x-python",
   "name": "python",
   "nbconvert_exporter": "python",
   "pygments_lexer": "ipython3",
   "version": "3.12.7"
  }
 },
 "nbformat": 4,
 "nbformat_minor": 5
}
